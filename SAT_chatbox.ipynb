{
 "cells": [
  {
   "cell_type": "markdown",
   "metadata": {},
   "source": [
    "import library\n"
   ]
  },
  {
   "cell_type": "code",
   "execution_count": 35,
   "metadata": {},
   "outputs": [],
   "source": [
    "import openai\n",
    "import json\n",
    "import jsonlines\n",
    "import time \n"
   ]
  },
  {
   "cell_type": "markdown",
   "metadata": {},
   "source": [
    "import data"
   ]
  },
  {
   "cell_type": "code",
   "execution_count": 36,
   "metadata": {},
   "outputs": [],
   "source": [
    "# path to training data\n",
    "data_path = './data/train/train_data.jsonl '\n",
    "\n",
    "# read data in training data\n",
    "#training_data = []\n",
    "\n",
    "with open(data_path) as data:\n",
    "    dataset = [json.loads(line) for line in data]\n",
    "\n",
    "fine_tune_data = [{'id': example['id'], 'role': 'user', 'Problem': example['Problem'], 'options': example['options'], 'diagramRef': example['diagramRef'], 'correct': example['correct']} for example in dataset]\n"
   ]
  },
  {
   "cell_type": "markdown",
   "metadata": {},
   "source": [
    "setup dataset"
   ]
  },
  {
   "cell_type": "code",
   "execution_count": 37,
   "metadata": {},
   "outputs": [
    {
     "data": {
      "text/plain": [
       "{'id': 14782,\n",
       " 'Problem': 'a man whose bowling average is 12.4 , takes 5 wickets for 26 runs and there by decreases his average by 0.4 . the number of wickets taken by him before his last match is ?',\n",
       " 'options': 'a ) 82 , b ) 83 , c ) 84 , d ) 85 , e ) 86',\n",
       " 'Rationale': '\"12.4 x + 26 / ( 5 + x ) = 12 12.4 x + 26 = 60 + 12 x x = 34 / 0.4 = 85 answer : d\"',\n",
       " 'correct': 'd',\n",
       " 'diagramRef': '',\n",
       " 'category': 'general'}"
      ]
     },
     "execution_count": 37,
     "metadata": {},
     "output_type": "execute_result"
    }
   ],
   "source": [
    "dataset[0]"
   ]
  },
  {
   "cell_type": "code",
   "execution_count": 38,
   "metadata": {},
   "outputs": [
    {
     "data": {
      "text/plain": [
       "{'id': 14782,\n",
       " 'role': 'user',\n",
       " 'Problem': 'a man whose bowling average is 12.4 , takes 5 wickets for 26 runs and there by decreases his average by 0.4 . the number of wickets taken by him before his last match is ?',\n",
       " 'options': 'a ) 82 , b ) 83 , c ) 84 , d ) 85 , e ) 86',\n",
       " 'diagramRef': '',\n",
       " 'correct': 'd'}"
      ]
     },
     "execution_count": 38,
     "metadata": {},
     "output_type": "execute_result"
    }
   ],
   "source": [
    "fine_tune_data[0]"
   ]
  },
  {
   "cell_type": "code",
   "execution_count": 39,
   "metadata": {},
   "outputs": [],
   "source": [
    "def read_data(fine_tune_data):\n",
    "  for example in fine_tune_data:\n",
    "    if example['options'] != \"\":\n",
    "      example.update(problem =  example['Problem'] + \"\\n options: \" + example['options'])\n",
    "    else:\n",
    "      example.update(problem =  example['Problem'] + \"\\n\" + \"the answer of the question is: \")\n",
    "    example.pop('Problem',None)\n",
    "    example.pop('options',None)\n",
    "read_data(fine_tune_data)"
   ]
  },
  {
   "cell_type": "code",
   "execution_count": 51,
   "metadata": {},
   "outputs": [
    {
     "data": {
      "text/plain": [
       "[{'id': 14788,\n",
       "  'role': 'user',\n",
       "  'diagramRef': '',\n",
       "  'correct': 'd',\n",
       "  'problem': 'a bag contains 6 white marbles and 6 black marbles . if each of 6 girls and 6 boys randomly selects and keeps a marble , what is the probability that all of the girls select the same colored marble ?\\n options: a ) 1 / 35 , b ) 1 / 10 , c ) 1 / 3 , d ) 1 / 462 , e ) 1 / 252'},\n",
       " {'id': 14789,\n",
       "  'role': 'user',\n",
       "  'diagramRef': '',\n",
       "  'correct': 'a',\n",
       "  'problem': 'john want to buy a $ 100 trouser at the store , but he think it ’ s too expensive . finally , it goes on sale for $ 10 . what is the percent decrease ?\\n options: a ) 90 % , b ) 30 % , c ) 40 % , d ) 70 % , e ) 80 %'},\n",
       " {'id': 14790,\n",
       "  'role': 'user',\n",
       "  'diagramRef': '',\n",
       "  'correct': 'd',\n",
       "  'problem': 'if a train , traveling at a speed of 270 kmph , crosses a pole in 5 sec , then the length of train is ?\\n options: a ) 281 m , b ) 325 m , c ) 117 m , d ) 375 m , e ) 350 m'}]"
      ]
     },
     "execution_count": 51,
     "metadata": {},
     "output_type": "execute_result"
    }
   ],
   "source": [
    "fine_tune_data[6:9]"
   ]
  },
  {
   "cell_type": "markdown",
   "metadata": {},
   "source": [
    "upload API and function set up input and output"
   ]
  },
  {
   "cell_type": "code",
   "execution_count": 41,
   "metadata": {},
   "outputs": [],
   "source": [
    "from openai import OpenAI\n",
    "with open('./data/train/keyopenai.txt') as f:\n",
    "    api_key = f.readline().strip()\n",
    "    client = OpenAI(api_key=api_key)"
   ]
  },
  {
   "cell_type": "code",
   "execution_count": 42,
   "metadata": {},
   "outputs": [],
   "source": [
    "from openai.types import Completion, CompletionChoice, CompletionUsage\n",
    "\n",
    "def get_response(user_request):\n",
    "    \"\"\"function get an response from API\n",
    "\n",
    "    Args:\n",
    "        user_request (string): a question about SAT \n",
    "\n",
    "    Returns:\n",
    "        response: answer\n",
    "    \"\"\"\n",
    "    response = client.completions.create(\n",
    "        model=\"gpt-3.5-turbo-instruct\",\n",
    "        prompt = user_request,\n",
    "        max_tokens = 20,\n",
    "        n = 1,\n",
    "        temperature = 0.2\n",
    "    )\n",
    "    return response.choices[0].text"
   ]
  },
  {
   "cell_type": "markdown",
   "metadata": {},
   "source": [
    "test function"
   ]
  },
  {
   "cell_type": "code",
   "execution_count": 43,
   "metadata": {},
   "outputs": [
    {
     "name": "stdout",
     "output_type": "stream",
     "text": [
      "\n",
      "\n",
      "1 add 1 is equal to 2.\n"
     ]
    }
   ],
   "source": [
    "question =' what is 1 add 1 equal to?'\n",
    "answer = get_response(question)\n",
    "print(answer)"
   ]
  },
  {
   "cell_type": "code",
   "execution_count": 54,
   "metadata": {},
   "outputs": [],
   "source": [
    "from typing import List\n",
    "def convert_to_submit_file(api_result: list = []):\n",
    "    \"\"\"function write the results in file results.txt \n",
    "\n",
    "    Args:\n",
    "        api_result (list, optional): results of function get_response\n",
    "\n",
    "    Returns:\n",
    "        string: save results in a text file\n",
    "    \"\"\"\n",
    "    api_result_str = ' '.join(api_result)\n",
    "\n",
    "    answer_start = api_result_str.find(\"Answer: \")\n",
    "    if answer_start != -1:\n",
    "        answer_end = api_result_str.find(\",\", answer_start)\n",
    "        answer_part = api_result_str[answer_start + len(\"Answer: \"):answer_end]\n",
    "\n",
    "        if any(c.isalpha() for c in answer_part):\n",
    "            answer = answer_part[0:answer_part.find(\")\")]\n",
    "        else:\n",
    "            answer = answer_part\n",
    "        return answer.lower()\n",
    "    else:\n",
    "        return api_result_str.lower()"
   ]
  },
  {
   "cell_type": "markdown",
   "metadata": {},
   "source": [
    "solution\n"
   ]
  },
  {
   "cell_type": "code",
   "execution_count": 55,
   "metadata": {},
   "outputs": [],
   "source": [
    "#check current_id \n",
    "result_file_path ='./results/results.txt'\n",
    "def check_current_id(result_file_path) -> int:\n",
    "    with open(result_file_path, 'r') as f:\n",
    "        lines = f.readlines()\n",
    "        current_id = len(lines)\n",
    "    return current_id\n"
   ]
  },
  {
   "cell_type": "code",
   "execution_count": 56,
   "metadata": {},
   "outputs": [],
   "source": [
    "quantityOfCorrectAnswer=0\n",
    "def main():\n",
    "    current_id =check_current_id(result_file_path)\n",
    "    with open(result_file_path, 'a') as f:\n",
    "        print(\"open result file \")\n",
    "        for example in fine_tune_data[current_id-1:]:\n",
    "            prompt =\"You are a helpful assistant that answers math questions. You should answer the questions in the following format:For multiple-choice questions without an answer: Only provide the final result. Question: What is the result of the calculation 3+6? 9 .Question: What is the result of the calculation 4+2-6? 0 .For multiple-choice questions with the correct answer: Only provide the final result.Question: What is the result of the calculation 3+4+7? a)14 b)6 c)34  a .Question: What is the sum of 2 and 9? a)4 b)5 c)11  c .For multiple-choice questions with special characters such as $, kg, meter in the answer: Only print the numerical result.Question: How much is 1 kg plus 1 kg?  2 .Question: How much is $10 plus $200? a)$300 b)$210  b  \\nQuestion:\"\n",
    "            user_request= prompt + example['problem']\n",
    "            try:   \n",
    "                t1 =time.time()\n",
    "                answer_from_api =get_response(user_request)\n",
    "                t2= time.time()\n",
    "                time_request=t2 - t1\n",
    "                print(\"success\")\n",
    "            except:\n",
    "                print(\"failed\")\n",
    "                continue\n",
    "            print(f\"Time request for {example['id']}: {time_request}, answer: {answer_from_api}\")\n",
    "            fill_in_file =convert_to_submit_file(answer_from_api)\n",
    "            \n",
    "            if fill_in_file == example[\"correct\"]:\n",
    "                quantityOfCorrectAnswer = quantityOfCorrectAnswer + 1\n",
    "            f.write( fill_in_file + \"\\t\"+str(time_request) + \"\\n\")\n",
    "            time.sleep(20)"
   ]
  },
  {
   "cell_type": "code",
   "execution_count": 49,
   "metadata": {},
   "outputs": [
    {
     "name": "stdout",
     "output_type": "stream",
     "text": [
      "1\n"
     ]
    }
   ],
   "source": [
    "print(check_current_id(result_file_path))"
   ]
  },
  {
   "cell_type": "code",
   "execution_count": 48,
   "metadata": {},
   "outputs": [
    {
     "name": "stdout",
     "output_type": "stream",
     "text": [
      "open result file \n"
     ]
    },
    {
     "name": "stdout",
     "output_type": "stream",
     "text": [
      "success\n",
      "Time request for 60813: 0.49320054054260254, answer:  (3, -10)\n"
     ]
    }
   ],
   "source": [
    "if __name__ == \"__main__\":\n",
    "    main()\n",
    "    print(quantityOfCorrectAnswer)"
   ]
  }
 ],
 "metadata": {
  "kernelspec": {
   "display_name": "venv",
   "language": "python",
   "name": "python3"
  },
  "language_info": {
   "codemirror_mode": {
    "name": "ipython",
    "version": 3
   },
   "file_extension": ".py",
   "mimetype": "text/x-python",
   "name": "python",
   "nbconvert_exporter": "python",
   "pygments_lexer": "ipython3",
   "version": "3.11.3"
  }
 },
 "nbformat": 4,
 "nbformat_minor": 2
}
