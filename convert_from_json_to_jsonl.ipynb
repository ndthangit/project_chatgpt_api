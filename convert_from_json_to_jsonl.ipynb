{
 "cells": [
  {
   "cell_type": "markdown",
   "metadata": {},
   "source": [
    "import library"
   ]
  },
  {
   "cell_type": "code",
   "execution_count": 3,
   "metadata": {},
   "outputs": [],
   "source": [
    "import json\n",
    "import jsonlines"
   ]
  },
  {
   "cell_type": "markdown",
   "metadata": {},
   "source": [
    "convert data from json file to jsonl file"
   ]
  },
  {
   "cell_type": "code",
   "execution_count": null,
   "metadata": {},
   "outputs": [],
   "source": [
    "def convert_json_to_jsonl(input_file, output_file):\n",
    "    # open json file\n",
    "    with open(input_file, 'r') as json_file:\n",
    "        # read file\n",
    "        data = json.loads(json_file)\n",
    "\n",
    "    # create and open output file\n",
    "    with open(output_file, 'w') as jsonl_file:\n",
    "        # each element in json file convert to a line in jsonl file\n",
    "        for item in data:\n",
    "            jsonl_file.write(json.dumps(item) + '\\n')\n",
    "\n",
    "if __name__ == \"__main__\":\n",
    "    # input\n",
    "    input_file = \"/content/drive/MyDrive/ai challenge/data/test/all_test_round1.json\"\n",
    "\n",
    "    # output\n",
    "    output_file = \"/content/drive/MyDrive/ai challenge/data/test/all_test_round2.jsonl\"\n",
    "\n",
    "    # convert from json file to jsonl file\n",
    "    convert_json_to_jsonl(input_file, output_file)\n",
    "    print(\"Conversion completed. Output written to\", output_file)"
   ]
  }
 ],
 "metadata": {
  "kernelspec": {
   "display_name": "venv",
   "language": "python",
   "name": "python3"
  },
  "language_info": {
   "codemirror_mode": {
    "name": "ipython",
    "version": 3
   },
   "file_extension": ".py",
   "mimetype": "text/x-python",
   "name": "python",
   "nbconvert_exporter": "python",
   "pygments_lexer": "ipython3",
   "version": "3.11.3"
  }
 },
 "nbformat": 4,
 "nbformat_minor": 2
}
